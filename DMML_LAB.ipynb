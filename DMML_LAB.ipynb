{
  "nbformat": 4,
  "nbformat_minor": 0,
  "metadata": {
    "colab": {
      "provenance": []
    },
    "kernelspec": {
      "name": "python3",
      "display_name": "Python 3"
    },
    "language_info": {
      "name": "python"
    }
  },
  "cells": [
    {
      "cell_type": "markdown",
      "source": [
        "Here’s a similar question structured in the same style:\n",
        "\n",
        "---\n",
        "\n",
        "**Question:**\n",
        "\n",
        "1. Perform all necessary data preprocessing steps on the given dataset.\n",
        "2. Explore the relationship between numerical features and the target variable using correlation analysis.\n",
        "3. Apply the **Decision Tree** classifier with a maximum depth of 5.\n",
        "4. Evaluate the model using **Accuracy**, **Precision**, **Recall**, and **F1 Score**.\n",
        "\n",
        "---\n",
        "\n",
        "If you want, I can generate **3–5 more variations** of such questions using different models and preprocessing steps. Do you want me to do that?\n"
      ],
      "metadata": {
        "id": "r0OgHwuOULZI"
      }
    },
    {
      "cell_type": "code",
      "execution_count": null,
      "metadata": {
        "id": "X_tDC0QgUKPO"
      },
      "outputs": [],
      "source": [
        "# Step 1: Import necessary libraries\n",
        "import pandas as pd\n",
        "from sklearn.model_selection import train_test_split\n",
        "from sklearn.preprocessing import StandardScaler\n",
        "from sklearn.neighbors import KNeighborsClassifier\n",
        "from sklearn.metrics import accuracy_score, precision_score, recall_score, f1_score\n",
        "\n",
        "# Step 2: Load the dataset\n",
        "df = pd.read_csv('data.csv')\n",
        "\n",
        "# Step 3: Preprocessing\n",
        "# Separate features and target\n",
        "X = df.drop('target', axis=1)\n",
        "y = df['target']\n",
        "\n",
        "# Optional: Standardize numerical features for KNN\n",
        "scaler = StandardScaler()\n",
        "X_scaled = scaler.fit_transform(X)\n",
        "\n",
        "# Step 4: Correlation analysis\n",
        "correlation_matrix = df.corr()\n",
        "print(\"Correlation with target:\\n\", correlation_matrix['target'].sort_values(ascending=False))\n",
        "\n",
        "# Step 5: Split data into training and test sets\n",
        "X_train, X_test, y_train, y_test = train_test_split(X_scaled, y, test_size=0.2, random_state=42)\n",
        "\n",
        "# Step 6: Apply KNN model with k=3 and Euclidean distance\n",
        "knn = KNeighborsClassifier(n_neighbors=3, metric='euclidean')\n",
        "knn.fit(X_train, y_train)\n",
        "\n",
        "# Step 7: Make predictions\n",
        "y_pred = knn.predict(X_test)\n",
        "\n",
        "# Step 8: Evaluate the model\n",
        "accuracy = accuracy_score(y_test, y_pred)\n",
        "precision = precision_score(y_test, y_pred, average='weighted')  # use weighted for multi-class\n",
        "recall = recall_score(y_test, y_pred, average='weighted')\n",
        "f1 = f1_score(y_test, y_pred, average='weighted')\n",
        "\n",
        "print(f\"Accuracy: {accuracy:.4f}\")\n",
        "print(f\"Precision: {precision:.4f}\")\n",
        "print(f\"Recall: {recall:.4f}\")\n",
        "print(f\"F1 Score: {f1:.4f}\")\n"
      ]
    },
    {
      "cell_type": "code",
      "source": [],
      "metadata": {
        "id": "6cHLHczwUK4F"
      },
      "execution_count": null,
      "outputs": []
    }
  ]
}